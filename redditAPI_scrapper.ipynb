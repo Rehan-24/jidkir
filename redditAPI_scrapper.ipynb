{
 "cells": [
  {
   "cell_type": "code",
   "execution_count": 3,
   "id": "1522edee",
   "metadata": {},
   "outputs": [
    {
     "name": "stdout",
     "output_type": "stream",
     "text": [
      "Title: [Guillem Balague] Messi has decided. His destination: Inter Miami Leo Messi se va al Inter Miami\n",
      "Score: 12732\n",
      "---------------------------\n",
      "Title: What do you think about Lionel Messi turning down Saudi Arabia for the United States?\n",
      "Score: 3998\n",
      "---------------------------\n",
      "Title: [BBC] Lionel Messi to join Inter Miami\n",
      "Score: 5502\n",
      "---------------------------\n",
      "Title: [Official] Lionel Messi is leaving PSG.\n",
      "Score: 10100\n",
      "---------------------------\n",
      "Title: [Front Office Sports] The Messi Effect: In 24 hours, Inter Miami has gone from 1 million to more than 5 million Instagram followers. More than any NFL, MLB, NHL, or MLS team.\n",
      "Score: 6544\n",
      "---------------------------\n",
      "Title: PSG fans booing and whistling Lionel Messi.\n",
      "Score: 3170\n",
      "---------------------------\n",
      "Title: [MD] Messi: \"I'm not going back to Barca, i'm going to Inter Miami\"\n",
      "Score: 642\n",
      "---------------------------\n",
      "Title: [Romano] BREAKING: Lionel Messi to Inter Miami, here we go! The decision has been made and it will be announced by Leo in the next hours\n",
      "Score: 1537\n",
      "---------------------------\n",
      "Title: Fox's Brian Kilmeade on Lionel Messi coming to MLS' Inter Miami: \"The only thing I worry about, he doesn't speak English, and I want to see him sit down and talk. One thing about David Beckham he learned to speak English for us, with an accent.\"\n",
      "Score: 9219\n",
      "---------------------------\n",
      "Title: [Sky Sports] Lionel Messi will be the highest paid athlete in Miami. Messi will earn £43m per season, earning more than NBA player Jimmy Butler (£30m), NFL player Tyreek Hill (£24m) and MLB player Jorge Soler (£12m)\n",
      "Score: 6863\n",
      "---------------------------\n"
     ]
    }
   ],
   "source": [
    "import praw\n",
    "\n",
    "# Create a Reddit instance\n",
    "reddit = praw.Reddit(\n",
    "    client_id='FFh13j0WFFHFMWIJnhcM6A',\n",
    "    client_secret='xDCqU_dUO83z-WbLHOBqL9bo5xZcUg',\n",
    "    user_agent='sentiment_analysis'\n",
    ")\n",
    "\n",
    "# Define the search query\n",
    "search_query = 'messi'\n",
    "\n",
    "# Search for posts in all subreddits\n",
    "posts = reddit.subreddit(\"all\").search(search_query, limit=10)\n",
    "\n",
    "for post in posts:\n",
    "    print(\"Title:\", post.title)\n",
    "    print(\"Score:\", post.score)\n",
    "    print(\"---------------------------\")\n"
   ]
  },
  {
   "cell_type": "code",
   "execution_count": null,
   "id": "2bf24e82",
   "metadata": {},
   "outputs": [],
   "source": []
  }
 ],
 "metadata": {
  "kernelspec": {
   "display_name": "Python 3 (ipykernel)",
   "language": "python",
   "name": "python3"
  },
  "language_info": {
   "codemirror_mode": {
    "name": "ipython",
    "version": 3
   },
   "file_extension": ".py",
   "mimetype": "text/x-python",
   "name": "python",
   "nbconvert_exporter": "python",
   "pygments_lexer": "ipython3",
   "version": "3.10.9"
  }
 },
 "nbformat": 4,
 "nbformat_minor": 5
}
